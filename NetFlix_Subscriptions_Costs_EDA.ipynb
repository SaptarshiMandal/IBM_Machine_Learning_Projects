{
 "cells": [
  {
   "cell_type": "markdown",
   "id": "d0ba0923",
   "metadata": {},
   "source": [
    "***Import the required libraries***"
   ]
  },
  {
   "cell_type": "code",
   "execution_count": 80,
   "id": "961c8ae1",
   "metadata": {},
   "outputs": [],
   "source": [
    "import numpy as np\n",
    "import scipy as sp\n",
    "import pandas as pd\n",
    "from scipy.stats import spearmanr\n",
    "from sklearn.preprocessing import StandardScaler\n",
    "import matplotlib.pyplot as plt\n",
    "import seaborn as sns"
   ]
  },
  {
   "cell_type": "markdown",
   "id": "2b1f1ba6",
   "metadata": {},
   "source": [
    "***Data Reading***"
   ]
  },
  {
   "cell_type": "code",
   "execution_count": 2,
   "id": "018fa84c",
   "metadata": {},
   "outputs": [],
   "source": [
    "nf_sub_cost = pd.read_csv(\"./Data_Sets/NetFlix_Subscriptions_Costs.csv\")"
   ]
  },
  {
   "cell_type": "markdown",
   "id": "bc11c654",
   "metadata": {},
   "source": [
    "***Data Description***"
   ]
  },
  {
   "cell_type": "code",
   "execution_count": 3,
   "id": "21b404c7",
   "metadata": {},
   "outputs": [
    {
     "data": {
      "text/plain": [
       "(65, 7)"
      ]
     },
     "execution_count": 3,
     "metadata": {},
     "output_type": "execute_result"
    }
   ],
   "source": [
    "# Shape of data\n",
    "nf_sub_cost.shape  # Only 65 observations of 7 features"
   ]
  },
  {
   "cell_type": "code",
   "execution_count": 4,
   "id": "68bf43ad",
   "metadata": {},
   "outputs": [
    {
     "name": "stdout",
     "output_type": "stream",
     "text": [
      "<class 'pandas.core.frame.DataFrame'>\n",
      "RangeIndex: 65 entries, 0 to 64\n",
      "Data columns (total 7 columns):\n",
      " #   Column                         Non-Null Count  Dtype  \n",
      "---  ------                         --------------  -----  \n",
      " 0   Country                        65 non-null     object \n",
      " 1   Total Library Size             65 non-null     int64  \n",
      " 2   No. of TV Shows                65 non-null     int64  \n",
      " 3   No. of Movies                  65 non-null     int64  \n",
      " 4   Cost Per Month - Basic ($)     65 non-null     float64\n",
      " 5   Cost Per Month - Standard ($)  65 non-null     float64\n",
      " 6   Cost Per Month - Premium ($)   65 non-null     float64\n",
      "dtypes: float64(3), int64(3), object(1)\n",
      "memory usage: 3.7+ KB\n"
     ]
    }
   ],
   "source": [
    "# Feature information\n",
    "nf_sub_cost.info()"
   ]
  },
  {
   "cell_type": "code",
   "execution_count": 5,
   "id": "874beaf9",
   "metadata": {},
   "outputs": [],
   "source": [
    "# Get only the numeric columns\n",
    "numeric_columns = nf_sub_cost.dtypes[nf_sub_cost.dtypes != \"object\"].index"
   ]
  },
  {
   "cell_type": "code",
   "execution_count": 6,
   "id": "bbfd173d",
   "metadata": {},
   "outputs": [
    {
     "data": {
      "text/html": [
       "<div>\n",
       "<style scoped>\n",
       "    .dataframe tbody tr th:only-of-type {\n",
       "        vertical-align: middle;\n",
       "    }\n",
       "\n",
       "    .dataframe tbody tr th {\n",
       "        vertical-align: top;\n",
       "    }\n",
       "\n",
       "    .dataframe thead th {\n",
       "        text-align: right;\n",
       "    }\n",
       "</style>\n",
       "<table border=\"1\" class=\"dataframe\">\n",
       "  <thead>\n",
       "    <tr style=\"text-align: right;\">\n",
       "      <th></th>\n",
       "      <th>Total Library Size</th>\n",
       "      <th>No. of TV Shows</th>\n",
       "      <th>No. of Movies</th>\n",
       "      <th>Cost Per Month - Basic ($)</th>\n",
       "      <th>Cost Per Month - Standard ($)</th>\n",
       "      <th>Cost Per Month - Premium ($)</th>\n",
       "    </tr>\n",
       "  </thead>\n",
       "  <tbody>\n",
       "    <tr>\n",
       "      <th>count</th>\n",
       "      <td>65.000000</td>\n",
       "      <td>65.000000</td>\n",
       "      <td>65.000000</td>\n",
       "      <td>65.000000</td>\n",
       "      <td>65.000000</td>\n",
       "      <td>65.000000</td>\n",
       "    </tr>\n",
       "    <tr>\n",
       "      <th>mean</th>\n",
       "      <td>5314.415385</td>\n",
       "      <td>3518.953846</td>\n",
       "      <td>1795.461538</td>\n",
       "      <td>8.368462</td>\n",
       "      <td>11.990000</td>\n",
       "      <td>15.612923</td>\n",
       "    </tr>\n",
       "    <tr>\n",
       "      <th>std</th>\n",
       "      <td>980.322633</td>\n",
       "      <td>723.010556</td>\n",
       "      <td>327.279748</td>\n",
       "      <td>1.937819</td>\n",
       "      <td>2.863979</td>\n",
       "      <td>4.040672</td>\n",
       "    </tr>\n",
       "    <tr>\n",
       "      <th>min</th>\n",
       "      <td>2274.000000</td>\n",
       "      <td>1675.000000</td>\n",
       "      <td>373.000000</td>\n",
       "      <td>1.970000</td>\n",
       "      <td>3.000000</td>\n",
       "      <td>4.020000</td>\n",
       "    </tr>\n",
       "    <tr>\n",
       "      <th>25%</th>\n",
       "      <td>4948.000000</td>\n",
       "      <td>3154.000000</td>\n",
       "      <td>1628.000000</td>\n",
       "      <td>7.990000</td>\n",
       "      <td>10.710000</td>\n",
       "      <td>13.540000</td>\n",
       "    </tr>\n",
       "    <tr>\n",
       "      <th>50%</th>\n",
       "      <td>5195.000000</td>\n",
       "      <td>3512.000000</td>\n",
       "      <td>1841.000000</td>\n",
       "      <td>8.990000</td>\n",
       "      <td>11.490000</td>\n",
       "      <td>14.450000</td>\n",
       "    </tr>\n",
       "    <tr>\n",
       "      <th>75%</th>\n",
       "      <td>5952.000000</td>\n",
       "      <td>3832.000000</td>\n",
       "      <td>1980.000000</td>\n",
       "      <td>9.030000</td>\n",
       "      <td>13.540000</td>\n",
       "      <td>18.060000</td>\n",
       "    </tr>\n",
       "    <tr>\n",
       "      <th>max</th>\n",
       "      <td>7325.000000</td>\n",
       "      <td>5234.000000</td>\n",
       "      <td>2387.000000</td>\n",
       "      <td>12.880000</td>\n",
       "      <td>20.460000</td>\n",
       "      <td>26.960000</td>\n",
       "    </tr>\n",
       "  </tbody>\n",
       "</table>\n",
       "</div>"
      ],
      "text/plain": [
       "       Total Library Size  No. of TV Shows  No. of Movies  \\\n",
       "count           65.000000        65.000000      65.000000   \n",
       "mean          5314.415385      3518.953846    1795.461538   \n",
       "std            980.322633       723.010556     327.279748   \n",
       "min           2274.000000      1675.000000     373.000000   \n",
       "25%           4948.000000      3154.000000    1628.000000   \n",
       "50%           5195.000000      3512.000000    1841.000000   \n",
       "75%           5952.000000      3832.000000    1980.000000   \n",
       "max           7325.000000      5234.000000    2387.000000   \n",
       "\n",
       "       Cost Per Month - Basic ($)  Cost Per Month - Standard ($)  \\\n",
       "count                   65.000000                      65.000000   \n",
       "mean                     8.368462                      11.990000   \n",
       "std                      1.937819                       2.863979   \n",
       "min                      1.970000                       3.000000   \n",
       "25%                      7.990000                      10.710000   \n",
       "50%                      8.990000                      11.490000   \n",
       "75%                      9.030000                      13.540000   \n",
       "max                     12.880000                      20.460000   \n",
       "\n",
       "       Cost Per Month - Premium ($)  \n",
       "count                     65.000000  \n",
       "mean                      15.612923  \n",
       "std                        4.040672  \n",
       "min                        4.020000  \n",
       "25%                       13.540000  \n",
       "50%                       14.450000  \n",
       "75%                       18.060000  \n",
       "max                       26.960000  "
      ]
     },
     "execution_count": 6,
     "metadata": {},
     "output_type": "execute_result"
    }
   ],
   "source": [
    "nf_sub_cost[numeric_columns].describe()"
   ]
  },
  {
   "cell_type": "markdown",
   "id": "89a251bd",
   "metadata": {},
   "source": [
    "***Data Cleaning***"
   ]
  },
  {
   "cell_type": "markdown",
   "id": "ca63af2e",
   "metadata": {},
   "source": [
    "**Although it is clear that the data set does not have any missing data, still we insist on finding it in an alternate way**"
   ]
  },
  {
   "cell_type": "code",
   "execution_count": 7,
   "id": "41d877dd",
   "metadata": {},
   "outputs": [
    {
     "data": {
      "text/plain": [
       "Country                          0\n",
       "Total Library Size               0\n",
       "No. of TV Shows                  0\n",
       "No. of Movies                    0\n",
       "Cost Per Month - Basic ($)       0\n",
       "Cost Per Month - Standard ($)    0\n",
       "Cost Per Month - Premium ($)     0\n",
       "dtype: int64"
      ]
     },
     "execution_count": 7,
     "metadata": {},
     "output_type": "execute_result"
    }
   ],
   "source": [
    "nf_sub_cost.isna().sum()  # No missing value"
   ]
  },
  {
   "cell_type": "markdown",
   "id": "afe67a1c",
   "metadata": {},
   "source": [
    "**Also check for infinity values**"
   ]
  },
  {
   "cell_type": "code",
   "execution_count": 8,
   "id": "d31e22b6",
   "metadata": {},
   "outputs": [
    {
     "data": {
      "text/plain": [
       "Total Library Size               0\n",
       "No. of TV Shows                  0\n",
       "No. of Movies                    0\n",
       "Cost Per Month - Basic ($)       0\n",
       "Cost Per Month - Standard ($)    0\n",
       "Cost Per Month - Premium ($)     0\n",
       "dtype: int64"
      ]
     },
     "execution_count": 8,
     "metadata": {},
     "output_type": "execute_result"
    }
   ],
   "source": [
    "nf_sub_cost[\n",
    "    [\n",
    "        \"Total Library Size\", \"No. of TV Shows\", \"No. of Movies\",\n",
    "        \"Cost Per Month - Basic ($)\", \"Cost Per Month - Standard ($)\",\n",
    "        \"Cost Per Month - Premium ($)\"\n",
    "    ]\n",
    "].isin([np.inf, -np.inf]).sum()  # No infinite value"
   ]
  },
  {
   "cell_type": "markdown",
   "id": "c1703ce0",
   "metadata": {},
   "source": [
    "**Drop duplicates (if any)**"
   ]
  },
  {
   "cell_type": "code",
   "execution_count": 9,
   "id": "ae82a11a",
   "metadata": {},
   "outputs": [
    {
     "data": {
      "text/plain": [
       "(65, 7)"
      ]
     },
     "execution_count": 9,
     "metadata": {},
     "output_type": "execute_result"
    }
   ],
   "source": [
    "nf_sub_cost.shape"
   ]
  },
  {
   "cell_type": "code",
   "execution_count": 10,
   "id": "1c6ffc61",
   "metadata": {},
   "outputs": [
    {
     "data": {
      "text/plain": [
       "(65, 7)"
      ]
     },
     "execution_count": 10,
     "metadata": {},
     "output_type": "execute_result"
    }
   ],
   "source": [
    "nf_sub_cost_1 = nf_sub_cost.copy()  # Take a copy before attempting to drop duplicate observations (if any)\n",
    "nf_sub_cost.drop_duplicates(inplace=True)\n",
    "nf_sub_cost.shape  # Shape remains same; no duplicate observation"
   ]
  },
  {
   "cell_type": "markdown",
   "id": "8f8dc362",
   "metadata": {},
   "source": [
    "**Outlier check**"
   ]
  },
  {
   "cell_type": "code",
   "execution_count": 11,
   "id": "8ea5d021",
   "metadata": {},
   "outputs": [],
   "source": [
    "skew_limit = 0.75"
   ]
  },
  {
   "cell_type": "code",
   "execution_count": 12,
   "id": "30ca1765",
   "metadata": {},
   "outputs": [
    {
     "data": {
      "text/plain": [
       "['No. of Movies', 'Cost Per Month - Basic ($)']"
      ]
     },
     "execution_count": 12,
     "metadata": {},
     "output_type": "execute_result"
    }
   ],
   "source": [
    "skewed_columns = []\n",
    "for numeric_column in numeric_columns:\n",
    "    if skew_limit < abs(nf_sub_cost[numeric_column].skew()):\n",
    "        skewed_columns.append(numeric_column)\n",
    "skewed_columns  # Columns with skew above the permissible limit of 0.75"
   ]
  },
  {
   "cell_type": "code",
   "execution_count": 13,
   "id": "e95bfefe",
   "metadata": {},
   "outputs": [
    {
     "data": {
      "text/plain": [
       "No. of Movies                -2.014921\n",
       "Cost Per Month - Basic ($)   -0.968166\n",
       "dtype: float64"
      ]
     },
     "execution_count": 13,
     "metadata": {},
     "output_type": "execute_result"
    }
   ],
   "source": [
    "nf_sub_cost[skewed_columns].skew()  # Skew of the identified columns"
   ]
  },
  {
   "cell_type": "code",
   "execution_count": 14,
   "id": "f39ee13e",
   "metadata": {},
   "outputs": [
    {
     "data": {
      "text/plain": [
       "<AxesSubplot:xlabel='No. of Movies', ylabel='Count'>"
      ]
     },
     "execution_count": 14,
     "metadata": {},
     "output_type": "execute_result"
    },
    {
     "data": {
      "image/png": "[encoded data removed]",
      "text/plain": [
       "<Figure size 432x288 with 1 Axes>"
      ]
     },
     "metadata": {
      "needs_background": "light"
     },
     "output_type": "display_data"
    }
   ],
   "source": [
    "sns.histplot(nf_sub_cost[\"No. of Movies\"], kde=True, bins=15)"
   ]
  },
  {
   "cell_type": "code",
   "execution_count": 15,
   "id": "8ea802b4",
   "metadata": {},
   "outputs": [
    {
     "data": {
      "text/plain": [
       "<AxesSubplot:xlabel='No. of Movies', ylabel='Count'>"
      ]
     },
     "execution_count": 15,
     "metadata": {},
     "output_type": "execute_result"
    },
    {
     "data": {
      "image/png": "[encoded data removed]",
      "text/plain": [
       "<Figure size 432x288 with 1 Axes>"
      ]
     },
     "metadata": {
      "needs_background": "light"
     },
     "output_type": "display_data"
    }
   ],
   "source": [
    "# CLearly, log transformation made the data more right skewed \n",
    "sns.histplot(nf_sub_cost[\"No. of Movies\"].apply(np.log1p), kde=True, bins=15)"
   ]
  },
  {
   "cell_type": "code",
   "execution_count": 16,
   "id": "e31500d0",
   "metadata": {},
   "outputs": [
    {
     "data": {
      "text/plain": [
       "<AxesSubplot:xlabel='Cost Per Month - Basic ($)', ylabel='Count'>"
      ]
     },
     "execution_count": 16,
     "metadata": {},
     "output_type": "execute_result"
    },
    {
     "data": {
      "image/png": "[encoded data removed]",
      "text/plain": [
       "<Figure size 432x288 with 1 Axes>"
      ]
     },
     "metadata": {
      "needs_background": "light"
     },
     "output_type": "display_data"
    }
   ],
   "source": [
    "sns.histplot(nf_sub_cost[\"Cost Per Month - Basic ($)\"], kde=True, bins=15)"
   ]
  },
  {
   "cell_type": "code",
   "execution_count": 17,
   "id": "3d01e69b",
   "metadata": {},
   "outputs": [
    {
     "data": {
      "text/plain": [
       "<AxesSubplot:xlabel='Cost Per Month - Basic ($)', ylabel='Count'>"
      ]
     },
     "execution_count": 17,
     "metadata": {},
     "output_type": "execute_result"
    },
    {
     "data": {
      "image/png": "[encoded data removed]",
      "text/plain": [
       "<Figure size 432x288 with 1 Axes>"
      ]
     },
     "metadata": {
      "needs_background": "light"
     },
     "output_type": "display_data"
    }
   ],
   "source": [
    "# Clearly, log transformation made the data more right skewed\n",
    "sns.histplot(nf_sub_cost[\"Cost Per Month - Basic ($)\"].apply(np.log1p), kde=True, bins=15)"
   ]
  },
  {
   "cell_type": "markdown",
   "id": "0dc1f1d0",
   "metadata": {},
   "source": [
    "***Feature Engineering***"
   ]
  },
  {
   "cell_type": "code",
   "execution_count": 18,
   "id": "e418b7a7",
   "metadata": {
    "scrolled": false
   },
   "outputs": [
    {
     "data": {
      "text/plain": [
       "<seaborn.axisgrid.PairGrid at 0x23dc9091490>"
      ]
     },
     "execution_count": 18,
     "metadata": {},
     "output_type": "execute_result"
    },
    {
     "data": {
      "image/png": "[encoded data removed]",
      "text/plain": [
       "<Figure size 1080x1080 with 42 Axes>"
      ]
     },
     "metadata": {
      "needs_background": "light"
     },
     "output_type": "display_data"
    }
   ],
   "source": [
    "sns.pairplot(nf_sub_cost)"
   ]
  },
  {
   "cell_type": "markdown",
   "id": "c802f5fa",
   "metadata": {},
   "source": [
    "1. There is multicollinearity between/among:\n",
    "    a. Total Library Size vs. No. of TV Shows\n",
    "    b. Cost Per Month - Basic vs. Cost Per Month - Standard and Cost Per Month - Premium\n",
    "    c. Cost Per Month - Standard vs. Cost Per Month - Basic and Cost Per Month - Premium\n",
    "    d. Cost Per Month - Premium vs. Cost Per Month - Basic and Cost Per Month - Standard"
   ]
  },
  {
   "cell_type": "markdown",
   "id": "81ac3aec",
   "metadata": {},
   "source": [
    "**Feature Interaction**"
   ]
  },
  {
   "cell_type": "code",
   "execution_count": 20,
   "id": "17a2d160",
   "metadata": {},
   "outputs": [],
   "source": [
    "nf_sub_cost_2 = nf_sub_cost.copy() # Take a copy before adding columns to capture probable feature interaction\n",
    "nf_sub_cost.insert(\n",
    "    5,\n",
    "    \"Basic Subscription Worth By Content Volume\",\n",
    "    nf_sub_cost[\"Cost Per Month - Basic ($)\"] / nf_sub_cost[\"Total Library Size\"]\n",
    ")"
   ]
  },
  {
   "cell_type": "code",
   "execution_count": 22,
   "id": "2028747a",
   "metadata": {},
   "outputs": [],
   "source": [
    "nf_sub_cost.insert(\n",
    "    7,\n",
    "    \"Standard Subscription Worth By Content Volume\",\n",
    "    nf_sub_cost[\"Cost Per Month - Standard ($)\"] / nf_sub_cost[\"Total Library Size\"]\n",
    ")"
   ]
  },
  {
   "cell_type": "code",
   "execution_count": 24,
   "id": "2642eb41",
   "metadata": {},
   "outputs": [
    {
     "data": {
      "text/html": [
       "<div>\n",
       "<style scoped>\n",
       "    .dataframe tbody tr th:only-of-type {\n",
       "        vertical-align: middle;\n",
       "    }\n",
       "\n",
       "    .dataframe tbody tr th {\n",
       "        vertical-align: top;\n",
       "    }\n",
       "\n",
       "    .dataframe thead th {\n",
       "        text-align: right;\n",
       "    }\n",
       "</style>\n",
       "<table border=\"1\" class=\"dataframe\">\n",
       "  <thead>\n",
       "    <tr style=\"text-align: right;\">\n",
       "      <th></th>\n",
       "      <th>Country</th>\n",
       "      <th>Total Library Size</th>\n",
       "      <th>No. of TV Shows</th>\n",
       "      <th>No. of Movies</th>\n",
       "      <th>Cost Per Month - Basic ($)</th>\n",
       "      <th>Basic Subscription Worth By Content Volume</th>\n",
       "      <th>Cost Per Month - Standard ($)</th>\n",
       "      <th>Standard Subscription Worth By Content Volume</th>\n",
       "      <th>Cost Per Month - Premium ($)</th>\n",
       "      <th>Premium Subscription Worth By Content Volume</th>\n",
       "    </tr>\n",
       "  </thead>\n",
       "  <tbody>\n",
       "    <tr>\n",
       "      <th>0</th>\n",
       "      <td>Argentina</td>\n",
       "      <td>4760</td>\n",
       "      <td>3154</td>\n",
       "      <td>1606</td>\n",
       "      <td>3.74</td>\n",
       "      <td>0.000786</td>\n",
       "      <td>6.30</td>\n",
       "      <td>0.001324</td>\n",
       "      <td>9.26</td>\n",
       "      <td>0.001945</td>\n",
       "    </tr>\n",
       "    <tr>\n",
       "      <th>1</th>\n",
       "      <td>Austria</td>\n",
       "      <td>5640</td>\n",
       "      <td>3779</td>\n",
       "      <td>1861</td>\n",
       "      <td>9.03</td>\n",
       "      <td>0.001601</td>\n",
       "      <td>14.67</td>\n",
       "      <td>0.002601</td>\n",
       "      <td>20.32</td>\n",
       "      <td>0.003603</td>\n",
       "    </tr>\n",
       "    <tr>\n",
       "      <th>2</th>\n",
       "      <td>Bolivia</td>\n",
       "      <td>4991</td>\n",
       "      <td>3155</td>\n",
       "      <td>1836</td>\n",
       "      <td>7.99</td>\n",
       "      <td>0.001601</td>\n",
       "      <td>10.99</td>\n",
       "      <td>0.002202</td>\n",
       "      <td>13.99</td>\n",
       "      <td>0.002803</td>\n",
       "    </tr>\n",
       "    <tr>\n",
       "      <th>3</th>\n",
       "      <td>Bulgaria</td>\n",
       "      <td>6797</td>\n",
       "      <td>4819</td>\n",
       "      <td>1978</td>\n",
       "      <td>9.03</td>\n",
       "      <td>0.001329</td>\n",
       "      <td>11.29</td>\n",
       "      <td>0.001661</td>\n",
       "      <td>13.54</td>\n",
       "      <td>0.001992</td>\n",
       "    </tr>\n",
       "    <tr>\n",
       "      <th>4</th>\n",
       "      <td>Chile</td>\n",
       "      <td>4994</td>\n",
       "      <td>3156</td>\n",
       "      <td>1838</td>\n",
       "      <td>7.07</td>\n",
       "      <td>0.001416</td>\n",
       "      <td>9.91</td>\n",
       "      <td>0.001984</td>\n",
       "      <td>12.74</td>\n",
       "      <td>0.002551</td>\n",
       "    </tr>\n",
       "    <tr>\n",
       "      <th>...</th>\n",
       "      <td>...</td>\n",
       "      <td>...</td>\n",
       "      <td>...</td>\n",
       "      <td>...</td>\n",
       "      <td>...</td>\n",
       "      <td>...</td>\n",
       "      <td>...</td>\n",
       "      <td>...</td>\n",
       "      <td>...</td>\n",
       "      <td>...</td>\n",
       "    </tr>\n",
       "    <tr>\n",
       "      <th>60</th>\n",
       "      <td>Ireland</td>\n",
       "      <td>6486</td>\n",
       "      <td>4515</td>\n",
       "      <td>1971</td>\n",
       "      <td>9.03</td>\n",
       "      <td>0.001392</td>\n",
       "      <td>14.67</td>\n",
       "      <td>0.002262</td>\n",
       "      <td>20.32</td>\n",
       "      <td>0.003133</td>\n",
       "    </tr>\n",
       "    <tr>\n",
       "      <th>61</th>\n",
       "      <td>Switzerland</td>\n",
       "      <td>5506</td>\n",
       "      <td>3654</td>\n",
       "      <td>1852</td>\n",
       "      <td>12.88</td>\n",
       "      <td>0.002339</td>\n",
       "      <td>20.46</td>\n",
       "      <td>0.003716</td>\n",
       "      <td>26.96</td>\n",
       "      <td>0.004896</td>\n",
       "    </tr>\n",
       "    <tr>\n",
       "      <th>62</th>\n",
       "      <td>Australia</td>\n",
       "      <td>6114</td>\n",
       "      <td>4050</td>\n",
       "      <td>2064</td>\n",
       "      <td>7.84</td>\n",
       "      <td>0.001282</td>\n",
       "      <td>12.12</td>\n",
       "      <td>0.001982</td>\n",
       "      <td>16.39</td>\n",
       "      <td>0.002681</td>\n",
       "    </tr>\n",
       "    <tr>\n",
       "      <th>63</th>\n",
       "      <td>Denmark</td>\n",
       "      <td>4558</td>\n",
       "      <td>2978</td>\n",
       "      <td>1580</td>\n",
       "      <td>12.00</td>\n",
       "      <td>0.002633</td>\n",
       "      <td>15.04</td>\n",
       "      <td>0.003300</td>\n",
       "      <td>19.60</td>\n",
       "      <td>0.004300</td>\n",
       "    </tr>\n",
       "    <tr>\n",
       "      <th>64</th>\n",
       "      <td>United States</td>\n",
       "      <td>5818</td>\n",
       "      <td>3826</td>\n",
       "      <td>1992</td>\n",
       "      <td>8.99</td>\n",
       "      <td>0.001545</td>\n",
       "      <td>13.99</td>\n",
       "      <td>0.002405</td>\n",
       "      <td>17.99</td>\n",
       "      <td>0.003092</td>\n",
       "    </tr>\n",
       "  </tbody>\n",
       "</table>\n",
       "<p>65 rows × 10 columns</p>\n",
       "</div>"
      ],
      "text/plain": [
       "          Country  Total Library Size  No. of TV Shows  No. of Movies  \\\n",
       "0       Argentina                4760             3154           1606   \n",
       "1         Austria                5640             3779           1861   \n",
       "2         Bolivia                4991             3155           1836   \n",
       "3        Bulgaria                6797             4819           1978   \n",
       "4           Chile                4994             3156           1838   \n",
       "..            ...                 ...              ...            ...   \n",
       "60        Ireland                6486             4515           1971   \n",
       "61    Switzerland                5506             3654           1852   \n",
       "62      Australia                6114             4050           2064   \n",
       "63        Denmark                4558             2978           1580   \n",
       "64  United States                5818             3826           1992   \n",
       "\n",
       "    Cost Per Month - Basic ($)  Basic Subscription Worth By Content Volume  \\\n",
       "0                         3.74                                    0.000786   \n",
       "1                         9.03                                    0.001601   \n",
       "2                         7.99                                    0.001601   \n",
       "3                         9.03                                    0.001329   \n",
       "4                         7.07                                    0.001416   \n",
       "..                         ...                                         ...   \n",
       "60                        9.03                                    0.001392   \n",
       "61                       12.88                                    0.002339   \n",
       "62                        7.84                                    0.001282   \n",
       "63                       12.00                                    0.002633   \n",
       "64                        8.99                                    0.001545   \n",
       "\n",
       "    Cost Per Month - Standard ($)  \\\n",
       "0                            6.30   \n",
       "1                           14.67   \n",
       "2                           10.99   \n",
       "3                           11.29   \n",
       "4                            9.91   \n",
       "..                            ...   \n",
       "60                          14.67   \n",
       "61                          20.46   \n",
       "62                          12.12   \n",
       "63                          15.04   \n",
       "64                          13.99   \n",
       "\n",
       "    Standard Subscription Worth By Content Volume  \\\n",
       "0                                        0.001324   \n",
       "1                                        0.002601   \n",
       "2                                        0.002202   \n",
       "3                                        0.001661   \n",
       "4                                        0.001984   \n",
       "..                                            ...   \n",
       "60                                       0.002262   \n",
       "61                                       0.003716   \n",
       "62                                       0.001982   \n",
       "63                                       0.003300   \n",
       "64                                       0.002405   \n",
       "\n",
       "    Cost Per Month - Premium ($)  Premium Subscription Worth By Content Volume  \n",
       "0                           9.26                                      0.001945  \n",
       "1                          20.32                                      0.003603  \n",
       "2                          13.99                                      0.002803  \n",
       "3                          13.54                                      0.001992  \n",
       "4                          12.74                                      0.002551  \n",
       "..                           ...                                           ...  \n",
       "60                         20.32                                      0.003133  \n",
       "61                         26.96                                      0.004896  \n",
       "62                         16.39                                      0.002681  \n",
       "63                         19.60                                      0.004300  \n",
       "64                         17.99                                      0.003092  \n",
       "\n",
       "[65 rows x 10 columns]"
      ]
     },
     "execution_count": 24,
     "metadata": {},
     "output_type": "execute_result"
    }
   ],
   "source": [
    "nf_sub_cost[\"Premium Subscription Worth By Content Volume\"] = nf_sub_cost[\"Cost Per Month - Premium ($)\"] / nf_sub_cost[\"Total Library Size\"]\n",
    "nf_sub_cost"
   ]
  },
  {
   "cell_type": "code",
   "execution_count": 26,
   "id": "544f6953",
   "metadata": {},
   "outputs": [],
   "source": [
    "def add_deviation_feature(data, category, feature):\n",
    "    \"\"\"Function to add feature deviation in category\n",
    "    \"\"\"\n",
    "    grouped_data = data.groupby(category)[feature]\n",
    "    category_mean = grouped_data.transform(lambda x: x.mean())\n",
    "    category_std = grouped_data.transform(lambda x: x.std())\n",
    "    data[feature + \" Deviation In \" + category] = (data[feature] - category_mean) / category_std"
   ]
  },
  {
   "cell_type": "code",
   "execution_count": 36,
   "id": "1ed0edf1",
   "metadata": {},
   "outputs": [],
   "source": [
    "nf_sub_cost_3 = nf_sub_cost.copy()  # Take a copy before binning of the Total Library Size"
   ]
  },
  {
   "cell_type": "code",
   "execution_count": 37,
   "id": "53757f54",
   "metadata": {},
   "outputs": [],
   "source": [
    "nf_sub_cost[\"Total Library Size Categorized\"] = pd.cut(nf_sub_cost[\"Total Library Size\"], bins=10) # Create feature with total library size bins"
   ]
  },
  {
   "cell_type": "code",
   "execution_count": 38,
   "id": "8db46563",
   "metadata": {},
   "outputs": [],
   "source": [
    "add_deviation_feature(nf_sub_cost, \"Total Library Size Categorized\", \"Cost Per Month - Basic ($)\")"
   ]
  },
  {
   "cell_type": "code",
   "execution_count": 39,
   "id": "64c5e40e",
   "metadata": {},
   "outputs": [
    {
     "data": {
      "text/html": [
       "<div>\n",
       "<style scoped>\n",
       "    .dataframe tbody tr th:only-of-type {\n",
       "        vertical-align: middle;\n",
       "    }\n",
       "\n",
       "    .dataframe tbody tr th {\n",
       "        vertical-align: top;\n",
       "    }\n",
       "\n",
       "    .dataframe thead th {\n",
       "        text-align: right;\n",
       "    }\n",
       "</style>\n",
       "<table border=\"1\" class=\"dataframe\">\n",
       "  <thead>\n",
       "    <tr style=\"text-align: right;\">\n",
       "      <th></th>\n",
       "      <th>Country</th>\n",
       "      <th>Total Library Size</th>\n",
       "      <th>No. of TV Shows</th>\n",
       "      <th>No. of Movies</th>\n",
       "      <th>Cost Per Month - Basic ($)</th>\n",
       "      <th>Basic Subscription Worth By Content Volume</th>\n",
       "      <th>Cost Per Month - Standard ($)</th>\n",
       "      <th>Standard Subscription Worth By Content Volume</th>\n",
       "      <th>Cost Per Month - Premium ($)</th>\n",
       "      <th>Premium Subscription Worth By Content Volume</th>\n",
       "      <th>Total Library Size Categorized</th>\n",
       "      <th>Cost Per Month - Basic ($) Deviation In Total Library Size Categorized</th>\n",
       "    </tr>\n",
       "  </thead>\n",
       "  <tbody>\n",
       "    <tr>\n",
       "      <th>0</th>\n",
       "      <td>Argentina</td>\n",
       "      <td>4760</td>\n",
       "      <td>3154</td>\n",
       "      <td>1606</td>\n",
       "      <td>3.74</td>\n",
       "      <td>0.000786</td>\n",
       "      <td>6.30</td>\n",
       "      <td>0.001324</td>\n",
       "      <td>9.26</td>\n",
       "      <td>0.001945</td>\n",
       "      <td>(4294.4, 4799.5]</td>\n",
       "      <td>-1.393505</td>\n",
       "    </tr>\n",
       "    <tr>\n",
       "      <th>1</th>\n",
       "      <td>Austria</td>\n",
       "      <td>5640</td>\n",
       "      <td>3779</td>\n",
       "      <td>1861</td>\n",
       "      <td>9.03</td>\n",
       "      <td>0.001601</td>\n",
       "      <td>14.67</td>\n",
       "      <td>0.002601</td>\n",
       "      <td>20.32</td>\n",
       "      <td>0.003603</td>\n",
       "      <td>(5304.6, 5809.7]</td>\n",
       "      <td>0.039413</td>\n",
       "    </tr>\n",
       "    <tr>\n",
       "      <th>2</th>\n",
       "      <td>Bolivia</td>\n",
       "      <td>4991</td>\n",
       "      <td>3155</td>\n",
       "      <td>1836</td>\n",
       "      <td>7.99</td>\n",
       "      <td>0.001601</td>\n",
       "      <td>10.99</td>\n",
       "      <td>0.002202</td>\n",
       "      <td>13.99</td>\n",
       "      <td>0.002803</td>\n",
       "      <td>(4799.5, 5304.6]</td>\n",
       "      <td>0.051985</td>\n",
       "    </tr>\n",
       "    <tr>\n",
       "      <th>3</th>\n",
       "      <td>Bulgaria</td>\n",
       "      <td>6797</td>\n",
       "      <td>4819</td>\n",
       "      <td>1978</td>\n",
       "      <td>9.03</td>\n",
       "      <td>0.001329</td>\n",
       "      <td>11.29</td>\n",
       "      <td>0.001661</td>\n",
       "      <td>13.54</td>\n",
       "      <td>0.001992</td>\n",
       "      <td>(6314.8, 6819.9]</td>\n",
       "      <td>0.526212</td>\n",
       "    </tr>\n",
       "    <tr>\n",
       "      <th>4</th>\n",
       "      <td>Chile</td>\n",
       "      <td>4994</td>\n",
       "      <td>3156</td>\n",
       "      <td>1838</td>\n",
       "      <td>7.07</td>\n",
       "      <td>0.001416</td>\n",
       "      <td>9.91</td>\n",
       "      <td>0.001984</td>\n",
       "      <td>12.74</td>\n",
       "      <td>0.002551</td>\n",
       "      <td>(4799.5, 5304.6]</td>\n",
       "      <td>-0.523143</td>\n",
       "    </tr>\n",
       "    <tr>\n",
       "      <th>...</th>\n",
       "      <td>...</td>\n",
       "      <td>...</td>\n",
       "      <td>...</td>\n",
       "      <td>...</td>\n",
       "      <td>...</td>\n",
       "      <td>...</td>\n",
       "      <td>...</td>\n",
       "      <td>...</td>\n",
       "      <td>...</td>\n",
       "      <td>...</td>\n",
       "      <td>...</td>\n",
       "      <td>...</td>\n",
       "    </tr>\n",
       "    <tr>\n",
       "      <th>60</th>\n",
       "      <td>Ireland</td>\n",
       "      <td>6486</td>\n",
       "      <td>4515</td>\n",
       "      <td>1971</td>\n",
       "      <td>9.03</td>\n",
       "      <td>0.001392</td>\n",
       "      <td>14.67</td>\n",
       "      <td>0.002262</td>\n",
       "      <td>20.32</td>\n",
       "      <td>0.003133</td>\n",
       "      <td>(6314.8, 6819.9]</td>\n",
       "      <td>0.526212</td>\n",
       "    </tr>\n",
       "    <tr>\n",
       "      <th>61</th>\n",
       "      <td>Switzerland</td>\n",
       "      <td>5506</td>\n",
       "      <td>3654</td>\n",
       "      <td>1852</td>\n",
       "      <td>12.88</td>\n",
       "      <td>0.002339</td>\n",
       "      <td>20.46</td>\n",
       "      <td>0.003716</td>\n",
       "      <td>26.96</td>\n",
       "      <td>0.004896</td>\n",
       "      <td>(5304.6, 5809.7]</td>\n",
       "      <td>2.003095</td>\n",
       "    </tr>\n",
       "    <tr>\n",
       "      <th>62</th>\n",
       "      <td>Australia</td>\n",
       "      <td>6114</td>\n",
       "      <td>4050</td>\n",
       "      <td>2064</td>\n",
       "      <td>7.84</td>\n",
       "      <td>0.001282</td>\n",
       "      <td>12.12</td>\n",
       "      <td>0.001982</td>\n",
       "      <td>16.39</td>\n",
       "      <td>0.002681</td>\n",
       "      <td>(5809.7, 6314.8]</td>\n",
       "      <td>-0.016525</td>\n",
       "    </tr>\n",
       "    <tr>\n",
       "      <th>63</th>\n",
       "      <td>Denmark</td>\n",
       "      <td>4558</td>\n",
       "      <td>2978</td>\n",
       "      <td>1580</td>\n",
       "      <td>12.00</td>\n",
       "      <td>0.002633</td>\n",
       "      <td>15.04</td>\n",
       "      <td>0.003300</td>\n",
       "      <td>19.60</td>\n",
       "      <td>0.004300</td>\n",
       "      <td>(4294.4, 4799.5]</td>\n",
       "      <td>1.312903</td>\n",
       "    </tr>\n",
       "    <tr>\n",
       "      <th>64</th>\n",
       "      <td>United States</td>\n",
       "      <td>5818</td>\n",
       "      <td>3826</td>\n",
       "      <td>1992</td>\n",
       "      <td>8.99</td>\n",
       "      <td>0.001545</td>\n",
       "      <td>13.99</td>\n",
       "      <td>0.002405</td>\n",
       "      <td>17.99</td>\n",
       "      <td>0.003092</td>\n",
       "      <td>(5809.7, 6314.8]</td>\n",
       "      <td>0.507706</td>\n",
       "    </tr>\n",
       "  </tbody>\n",
       "</table>\n",
       "<p>65 rows × 12 columns</p>\n",
       "</div>"
      ],
      "text/plain": [
       "          Country  Total Library Size  No. of TV Shows  No. of Movies  \\\n",
       "0       Argentina                4760             3154           1606   \n",
       "1         Austria                5640             3779           1861   \n",
       "2         Bolivia                4991             3155           1836   \n",
       "3        Bulgaria                6797             4819           1978   \n",
       "4           Chile                4994             3156           1838   \n",
       "..            ...                 ...              ...            ...   \n",
       "60        Ireland                6486             4515           1971   \n",
       "61    Switzerland                5506             3654           1852   \n",
       "62      Australia                6114             4050           2064   \n",
       "63        Denmark                4558             2978           1580   \n",
       "64  United States                5818             3826           1992   \n",
       "\n",
       "    Cost Per Month - Basic ($)  Basic Subscription Worth By Content Volume  \\\n",
       "0                         3.74                                    0.000786   \n",
       "1                         9.03                                    0.001601   \n",
       "2                         7.99                                    0.001601   \n",
       "3                         9.03                                    0.001329   \n",
       "4                         7.07                                    0.001416   \n",
       "..                         ...                                         ...   \n",
       "60                        9.03                                    0.001392   \n",
       "61                       12.88                                    0.002339   \n",
       "62                        7.84                                    0.001282   \n",
       "63                       12.00                                    0.002633   \n",
       "64                        8.99                                    0.001545   \n",
       "\n",
       "    Cost Per Month - Standard ($)  \\\n",
       "0                            6.30   \n",
       "1                           14.67   \n",
       "2                           10.99   \n",
       "3                           11.29   \n",
       "4                            9.91   \n",
       "..                            ...   \n",
       "60                          14.67   \n",
       "61                          20.46   \n",
       "62                          12.12   \n",
       "63                          15.04   \n",
       "64                          13.99   \n",
       "\n",
       "    Standard Subscription Worth By Content Volume  \\\n",
       "0                                        0.001324   \n",
       "1                                        0.002601   \n",
       "2                                        0.002202   \n",
       "3                                        0.001661   \n",
       "4                                        0.001984   \n",
       "..                                            ...   \n",
       "60                                       0.002262   \n",
       "61                                       0.003716   \n",
       "62                                       0.001982   \n",
       "63                                       0.003300   \n",
       "64                                       0.002405   \n",
       "\n",
       "    Cost Per Month - Premium ($)  \\\n",
       "0                           9.26   \n",
       "1                          20.32   \n",
       "2                          13.99   \n",
       "3                          13.54   \n",
       "4                          12.74   \n",
       "..                           ...   \n",
       "60                         20.32   \n",
       "61                         26.96   \n",
       "62                         16.39   \n",
       "63                         19.60   \n",
       "64                         17.99   \n",
       "\n",
       "    Premium Subscription Worth By Content Volume  \\\n",
       "0                                       0.001945   \n",
       "1                                       0.003603   \n",
       "2                                       0.002803   \n",
       "3                                       0.001992   \n",
       "4                                       0.002551   \n",
       "..                                           ...   \n",
       "60                                      0.003133   \n",
       "61                                      0.004896   \n",
       "62                                      0.002681   \n",
       "63                                      0.004300   \n",
       "64                                      0.003092   \n",
       "\n",
       "   Total Library Size Categorized  \\\n",
       "0                (4294.4, 4799.5]   \n",
       "1                (5304.6, 5809.7]   \n",
       "2                (4799.5, 5304.6]   \n",
       "3                (6314.8, 6819.9]   \n",
       "4                (4799.5, 5304.6]   \n",
       "..                            ...   \n",
       "60               (6314.8, 6819.9]   \n",
       "61               (5304.6, 5809.7]   \n",
       "62               (5809.7, 6314.8]   \n",
       "63               (4294.4, 4799.5]   \n",
       "64               (5809.7, 6314.8]   \n",
       "\n",
       "    Cost Per Month - Basic ($) Deviation In Total Library Size Categorized  \n",
       "0                                           -1.393505                       \n",
       "1                                            0.039413                       \n",
       "2                                            0.051985                       \n",
       "3                                            0.526212                       \n",
       "4                                           -0.523143                       \n",
       "..                                                ...                       \n",
       "60                                           0.526212                       \n",
       "61                                           2.003095                       \n",
       "62                                          -0.016525                       \n",
       "63                                           1.312903                       \n",
       "64                                           0.507706                       \n",
       "\n",
       "[65 rows x 12 columns]"
      ]
     },
     "execution_count": 39,
     "metadata": {},
     "output_type": "execute_result"
    }
   ],
   "source": [
    "nf_sub_cost"
   ]
  },
  {
   "cell_type": "markdown",
   "id": "4e047005",
   "metadata": {},
   "source": [
    "***Hypothesis Testing***"
   ]
  },
  {
   "cell_type": "markdown",
   "id": "174b46a7",
   "metadata": {},
   "source": [
    "**Correlation hypothesis: base package price varies with content volume**"
   ]
  },
  {
   "cell_type": "code",
   "execution_count": 101,
   "id": "ff349fa7",
   "metadata": {},
   "outputs": [],
   "source": [
    "nf_sub_cost_4 = nf_sub_cost_1.copy()\n",
    "nf_sub_cost_4.drop(\"Country\", axis=1, inplace=True)\n",
    "sample_1 = nf_sub_cost_4.sample(n=30, random_state=10)"
   ]
  },
  {
   "cell_type": "code",
   "execution_count": 102,
   "id": "3d5b7181",
   "metadata": {},
   "outputs": [
    {
     "data": {
      "text/html": [
       "<div>\n",
       "<style scoped>\n",
       "    .dataframe tbody tr th:only-of-type {\n",
       "        vertical-align: middle;\n",
       "    }\n",
       "\n",
       "    .dataframe tbody tr th {\n",
       "        vertical-align: top;\n",
       "    }\n",
       "\n",
       "    .dataframe thead th {\n",
       "        text-align: right;\n",
       "    }\n",
       "</style>\n",
       "<table border=\"1\" class=\"dataframe\">\n",
       "  <thead>\n",
       "    <tr style=\"text-align: right;\">\n",
       "      <th></th>\n",
       "      <th>Total Library Size</th>\n",
       "      <th>No. of TV Shows</th>\n",
       "      <th>No. of Movies</th>\n",
       "      <th>Cost Per Month - Basic ($)</th>\n",
       "      <th>Cost Per Month - Standard ($)</th>\n",
       "      <th>Cost Per Month - Premium ($)</th>\n",
       "    </tr>\n",
       "  </thead>\n",
       "  <tbody>\n",
       "    <tr>\n",
       "      <th>20</th>\n",
       "      <td>0.509276</td>\n",
       "      <td>0.320419</td>\n",
       "      <td>0.800532</td>\n",
       "      <td>0.958553</td>\n",
       "      <td>0.947337</td>\n",
       "      <td>0.869656</td>\n",
       "    </tr>\n",
       "    <tr>\n",
       "      <th>2</th>\n",
       "      <td>-0.134564</td>\n",
       "      <td>-0.311651</td>\n",
       "      <td>0.232950</td>\n",
       "      <td>-0.251210</td>\n",
       "      <td>-0.411420</td>\n",
       "      <td>-0.430378</td>\n",
       "    </tr>\n",
       "    <tr>\n",
       "      <th>53</th>\n",
       "      <td>-0.696364</td>\n",
       "      <td>-0.544048</td>\n",
       "      <td>-0.887211</td>\n",
       "      <td>1.118599</td>\n",
       "      <td>0.662868</td>\n",
       "      <td>0.907135</td>\n",
       "    </tr>\n",
       "    <tr>\n",
       "      <th>3</th>\n",
       "      <td>1.475928</td>\n",
       "      <td>1.813124</td>\n",
       "      <td>0.588001</td>\n",
       "      <td>0.238344</td>\n",
       "      <td>-0.311019</td>\n",
       "      <td>-0.535786</td>\n",
       "    </tr>\n",
       "    <tr>\n",
       "      <th>6</th>\n",
       "      <td>-0.137240</td>\n",
       "      <td>-0.315481</td>\n",
       "      <td>0.232950</td>\n",
       "      <td>0.219515</td>\n",
       "      <td>0.257918</td>\n",
       "      <td>0.038103</td>\n",
       "    </tr>\n",
       "    <tr>\n",
       "      <th>37</th>\n",
       "      <td>0.529786</td>\n",
       "      <td>0.366387</td>\n",
       "      <td>0.768027</td>\n",
       "      <td>-1.065564</td>\n",
       "      <td>-0.726009</td>\n",
       "      <td>-0.760656</td>\n",
       "    </tr>\n",
       "    <tr>\n",
       "      <th>19</th>\n",
       "      <td>0.625203</td>\n",
       "      <td>0.407248</td>\n",
       "      <td>0.955554</td>\n",
       "      <td>-2.769588</td>\n",
       "      <td>-1.877271</td>\n",
       "      <td>-1.692933</td>\n",
       "    </tr>\n",
       "    <tr>\n",
       "      <th>43</th>\n",
       "      <td>-0.136348</td>\n",
       "      <td>-0.312928</td>\n",
       "      <td>0.230450</td>\n",
       "      <td>0.219515</td>\n",
       "      <td>0.257918</td>\n",
       "      <td>0.038103</td>\n",
       "    </tr>\n",
       "    <tr>\n",
       "      <th>50</th>\n",
       "      <td>1.553510</td>\n",
       "      <td>1.791417</td>\n",
       "      <td>0.848039</td>\n",
       "      <td>-0.415964</td>\n",
       "      <td>-0.505127</td>\n",
       "      <td>-0.479568</td>\n",
       "    </tr>\n",
       "    <tr>\n",
       "      <th>26</th>\n",
       "      <td>-1.074464</td>\n",
       "      <td>-1.182502</td>\n",
       "      <td>-0.697184</td>\n",
       "      <td>0.238344</td>\n",
       "      <td>-0.311019</td>\n",
       "      <td>-0.535786</td>\n",
       "    </tr>\n",
       "    <tr>\n",
       "      <th>23</th>\n",
       "      <td>-1.867226</td>\n",
       "      <td>-2.154229</td>\n",
       "      <td>-1.017230</td>\n",
       "      <td>2.050635</td>\n",
       "      <td>2.757898</td>\n",
       "      <td>2.607719</td>\n",
       "    </tr>\n",
       "    <tr>\n",
       "      <th>39</th>\n",
       "      <td>-0.032905</td>\n",
       "      <td>-0.338466</td>\n",
       "      <td>0.570499</td>\n",
       "      <td>0.572558</td>\n",
       "      <td>-0.106871</td>\n",
       "      <td>-0.411638</td>\n",
       "    </tr>\n",
       "    <tr>\n",
       "      <th>17</th>\n",
       "      <td>-0.353042</td>\n",
       "      <td>-0.658970</td>\n",
       "      <td>0.300460</td>\n",
       "      <td>-0.208845</td>\n",
       "      <td>-0.742743</td>\n",
       "      <td>-0.912913</td>\n",
       "    </tr>\n",
       "    <tr>\n",
       "      <th>27</th>\n",
       "      <td>0.590425</td>\n",
       "      <td>0.519616</td>\n",
       "      <td>0.638009</td>\n",
       "      <td>0.238344</td>\n",
       "      <td>0.441986</td>\n",
       "      <td>0.522981</td>\n",
       "    </tr>\n",
       "    <tr>\n",
       "      <th>21</th>\n",
       "      <td>0.036651</td>\n",
       "      <td>0.186343</td>\n",
       "      <td>-0.262121</td>\n",
       "      <td>0.238344</td>\n",
       "      <td>0.820163</td>\n",
       "      <td>1.052364</td>\n",
       "    </tr>\n",
       "    <tr>\n",
       "      <th>41</th>\n",
       "      <td>-0.448459</td>\n",
       "      <td>-0.598955</td>\n",
       "      <td>-0.084596</td>\n",
       "      <td>-3.084974</td>\n",
       "      <td>-3.085427</td>\n",
       "      <td>-2.765753</td>\n",
       "    </tr>\n",
       "    <tr>\n",
       "      <th>7</th>\n",
       "      <td>-2.557437</td>\n",
       "      <td>-2.201474</td>\n",
       "      <td>-2.859996</td>\n",
       "      <td>0.238344</td>\n",
       "      <td>-0.311019</td>\n",
       "      <td>-0.535786</td>\n",
       "    </tr>\n",
       "    <tr>\n",
       "      <th>46</th>\n",
       "      <td>1.035406</td>\n",
       "      <td>0.906519</td>\n",
       "      <td>1.128079</td>\n",
       "      <td>0.464292</td>\n",
       "      <td>0.197678</td>\n",
       "      <td>0.066212</td>\n",
       "    </tr>\n",
       "    <tr>\n",
       "      <th>63</th>\n",
       "      <td>-0.520690</td>\n",
       "      <td>-0.537663</td>\n",
       "      <td>-0.407142</td>\n",
       "      <td>1.636397</td>\n",
       "      <td>0.943990</td>\n",
       "      <td>0.883711</td>\n",
       "    </tr>\n",
       "    <tr>\n",
       "      <th>51</th>\n",
       "      <td>-0.084627</td>\n",
       "      <td>0.025453</td>\n",
       "      <td>-0.287125</td>\n",
       "      <td>0.238344</td>\n",
       "      <td>0.441986</td>\n",
       "      <td>0.522981</td>\n",
       "    </tr>\n",
       "    <tr>\n",
       "      <th>10</th>\n",
       "      <td>1.171843</td>\n",
       "      <td>1.387914</td>\n",
       "      <td>0.567999</td>\n",
       "      <td>0.238344</td>\n",
       "      <td>-0.311019</td>\n",
       "      <td>-0.535786</td>\n",
       "    </tr>\n",
       "    <tr>\n",
       "      <th>44</th>\n",
       "      <td>-0.307563</td>\n",
       "      <td>-0.312928</td>\n",
       "      <td>-0.249619</td>\n",
       "      <td>-0.251210</td>\n",
       "      <td>-0.411420</td>\n",
       "      <td>-0.430378</td>\n",
       "    </tr>\n",
       "    <tr>\n",
       "      <th>32</th>\n",
       "      <td>-0.029338</td>\n",
       "      <td>0.144205</td>\n",
       "      <td>-0.364636</td>\n",
       "      <td>-0.656034</td>\n",
       "      <td>-0.548634</td>\n",
       "      <td>-0.250012</td>\n",
       "    </tr>\n",
       "    <tr>\n",
       "      <th>34</th>\n",
       "      <td>0.507492</td>\n",
       "      <td>0.287219</td>\n",
       "      <td>0.860541</td>\n",
       "      <td>-0.185309</td>\n",
       "      <td>-0.461620</td>\n",
       "      <td>-0.531101</td>\n",
       "    </tr>\n",
       "    <tr>\n",
       "      <th>18</th>\n",
       "      <td>1.110312</td>\n",
       "      <td>1.311299</td>\n",
       "      <td>0.545495</td>\n",
       "      <td>0.238344</td>\n",
       "      <td>0.820163</td>\n",
       "      <td>1.052364</td>\n",
       "    </tr>\n",
       "    <tr>\n",
       "      <th>4</th>\n",
       "      <td>-0.131889</td>\n",
       "      <td>-0.310374</td>\n",
       "      <td>0.237951</td>\n",
       "      <td>-0.684277</td>\n",
       "      <td>-0.772863</td>\n",
       "      <td>-0.723178</td>\n",
       "    </tr>\n",
       "    <tr>\n",
       "      <th>54</th>\n",
       "      <td>0.978334</td>\n",
       "      <td>1.164455</td>\n",
       "      <td>0.462983</td>\n",
       "      <td>-0.288868</td>\n",
       "      <td>-0.116911</td>\n",
       "      <td>-0.186768</td>\n",
       "    </tr>\n",
       "    <tr>\n",
       "      <th>1</th>\n",
       "      <td>0.444178</td>\n",
       "      <td>0.485140</td>\n",
       "      <td>0.295459</td>\n",
       "      <td>0.238344</td>\n",
       "      <td>0.820163</td>\n",
       "      <td>1.052364</td>\n",
       "    </tr>\n",
       "    <tr>\n",
       "      <th>12</th>\n",
       "      <td>0.469147</td>\n",
       "      <td>0.529832</td>\n",
       "      <td>0.277957</td>\n",
       "      <td>0.238344</td>\n",
       "      <td>0.820163</td>\n",
       "      <td>1.052364</td>\n",
       "    </tr>\n",
       "    <tr>\n",
       "      <th>35</th>\n",
       "      <td>-2.525334</td>\n",
       "      <td>-1.866924</td>\n",
       "      <td>-3.425077</td>\n",
       "      <td>0.238344</td>\n",
       "      <td>0.820163</td>\n",
       "      <td>1.052364</td>\n",
       "    </tr>\n",
       "  </tbody>\n",
       "</table>\n",
       "</div>"
      ],
      "text/plain": [
       "    Total Library Size  No. of TV Shows  No. of Movies  \\\n",
       "20            0.509276         0.320419       0.800532   \n",
       "2            -0.134564        -0.311651       0.232950   \n",
       "53           -0.696364        -0.544048      -0.887211   \n",
       "3             1.475928         1.813124       0.588001   \n",
       "6            -0.137240        -0.315481       0.232950   \n",
       "37            0.529786         0.366387       0.768027   \n",
       "19            0.625203         0.407248       0.955554   \n",
       "43           -0.136348        -0.312928       0.230450   \n",
       "50            1.553510         1.791417       0.848039   \n",
       "26           -1.074464        -1.182502      -0.697184   \n",
       "23           -1.867226        -2.154229      -1.017230   \n",
       "39           -0.032905        -0.338466       0.570499   \n",
       "17           -0.353042        -0.658970       0.300460   \n",
       "27            0.590425         0.519616       0.638009   \n",
       "21            0.036651         0.186343      -0.262121   \n",
       "41           -0.448459        -0.598955      -0.084596   \n",
       "7            -2.557437        -2.201474      -2.859996   \n",
       "46            1.035406         0.906519       1.128079   \n",
       "63           -0.520690        -0.537663      -0.407142   \n",
       "51           -0.084627         0.025453      -0.287125   \n",
       "10            1.171843         1.387914       0.567999   \n",
       "44           -0.307563        -0.312928      -0.249619   \n",
       "32           -0.029338         0.144205      -0.364636   \n",
       "34            0.507492         0.287219       0.860541   \n",
       "18            1.110312         1.311299       0.545495   \n",
       "4            -0.131889        -0.310374       0.237951   \n",
       "54            0.978334         1.164455       0.462983   \n",
       "1             0.444178         0.485140       0.295459   \n",
       "12            0.469147         0.529832       0.277957   \n",
       "35           -2.525334        -1.866924      -3.425077   \n",
       "\n",
       "    Cost Per Month - Basic ($)  Cost Per Month - Standard ($)  \\\n",
       "20                    0.958553                       0.947337   \n",
       "2                    -0.251210                      -0.411420   \n",
       "53                    1.118599                       0.662868   \n",
       "3                     0.238344                      -0.311019   \n",
       "6                     0.219515                       0.257918   \n",
       "37                   -1.065564                      -0.726009   \n",
       "19                   -2.769588                      -1.877271   \n",
       "43                    0.219515                       0.257918   \n",
       "50                   -0.415964                      -0.505127   \n",
       "26                    0.238344                      -0.311019   \n",
       "23                    2.050635                       2.757898   \n",
       "39                    0.572558                      -0.106871   \n",
       "17                   -0.208845                      -0.742743   \n",
       "27                    0.238344                       0.441986   \n",
       "21                    0.238344                       0.820163   \n",
       "41                   -3.084974                      -3.085427   \n",
       "7                     0.238344                      -0.311019   \n",
       "46                    0.464292                       0.197678   \n",
       "63                    1.636397                       0.943990   \n",
       "51                    0.238344                       0.441986   \n",
       "10                    0.238344                      -0.311019   \n",
       "44                   -0.251210                      -0.411420   \n",
       "32                   -0.656034                      -0.548634   \n",
       "34                   -0.185309                      -0.461620   \n",
       "18                    0.238344                       0.820163   \n",
       "4                    -0.684277                      -0.772863   \n",
       "54                   -0.288868                      -0.116911   \n",
       "1                     0.238344                       0.820163   \n",
       "12                    0.238344                       0.820163   \n",
       "35                    0.238344                       0.820163   \n",
       "\n",
       "    Cost Per Month - Premium ($)  \n",
       "20                      0.869656  \n",
       "2                      -0.430378  \n",
       "53                      0.907135  \n",
       "3                      -0.535786  \n",
       "6                       0.038103  \n",
       "37                     -0.760656  \n",
       "19                     -1.692933  \n",
       "43                      0.038103  \n",
       "50                     -0.479568  \n",
       "26                     -0.535786  \n",
       "23                      2.607719  \n",
       "39                     -0.411638  \n",
       "17                     -0.912913  \n",
       "27                      0.522981  \n",
       "21                      1.052364  \n",
       "41                     -2.765753  \n",
       "7                      -0.535786  \n",
       "46                      0.066212  \n",
       "63                      0.883711  \n",
       "51                      0.522981  \n",
       "10                     -0.535786  \n",
       "44                     -0.430378  \n",
       "32                     -0.250012  \n",
       "34                     -0.531101  \n",
       "18                      1.052364  \n",
       "4                      -0.723178  \n",
       "54                     -0.186768  \n",
       "1                       1.052364  \n",
       "12                      1.052364  \n",
       "35                      1.052364  "
      ]
     },
     "execution_count": 102,
     "metadata": {},
     "output_type": "execute_result"
    }
   ],
   "source": [
    "standard_scaler = StandardScaler()\n",
    "sample_1[:] = standard_scaler.fit_transform(sample_1)\n",
    "sample_1"
   ]
  },
  {
   "cell_type": "code",
   "execution_count": 112,
   "id": "615e48ac",
   "metadata": {},
   "outputs": [],
   "source": [
    "total_library_size = sample_1[\"Total Library Size\"]\n",
    "basic_package_price = sample_1[\"Cost Per Month - Basic ($)\"]"
   ]
  },
  {
   "cell_type": "code",
   "execution_count": 113,
   "id": "a26ed62d",
   "metadata": {},
   "outputs": [
    {
     "data": {
      "text/plain": [
       "[<matplotlib.lines.Line2D at 0x23dd189cca0>]"
      ]
     },
     "execution_count": 113,
     "metadata": {},
     "output_type": "execute_result"
    },
    {
     "data": {
      "image/png": "[encoded data removed]",
      "text/plain": [
       "<Figure size 432x288 with 1 Axes>"
      ]
     },
     "metadata": {
      "needs_background": "light"
     },
     "output_type": "display_data"
    }
   ],
   "source": [
    "plt.plot(total_library_size, basic_package_price)"
   ]
  },
  {
   "cell_type": "code",
   "execution_count": 115,
   "id": "d9eadf8c",
   "metadata": {},
   "outputs": [
    {
     "name": "stdout",
     "output_type": "stream",
     "text": [
      "p-value is 0.3473647271992212; that is there is weak correlation and base package price does not vary with total library size.\n"
     ]
    }
   ],
   "source": [
    "stat, p = spearmanr(total_library_size, basic_package_price)\n",
    "if p > 0.05:\n",
    "    print(f\"p-value is {p}; that is there is weak correlation and base package price does not vary with total library size.\")\n",
    "else:\n",
    "    print(f\"p-value is {p}; that is there is strong correlation and base package price varies with total library size.\")"
   ]
  }
 ],
 "metadata": {
  "kernelspec": {
   "display_name": "Python 3 (ipykernel)",
   "language": "python",
   "name": "python3"
  },
  "language_info": {
   "codemirror_mode": {
    "name": "ipython",
    "version": 3
   },
   "file_extension": ".py",
   "mimetype": "text/x-python",
   "name": "python",
   "nbconvert_exporter": "python",
   "pygments_lexer": "ipython3",
   "version": "3.9.7"
  }
 },
 "nbformat": 4,
 "nbformat_minor": 5
}
